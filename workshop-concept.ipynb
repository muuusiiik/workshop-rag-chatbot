{
 "cells": [
  {
   "cell_type": "code",
   "execution_count": 11,
   "id": "89bf5237-458a-4d4a-a130-922fe2095792",
   "metadata": {},
   "outputs": [],
   "source": [
    "def parse_single_row_to_records(row):\n",
    "    cate = row['category']\n",
    "    question = row['question']\n",
    "    answer = row['answer']\n",
    "    sheet = row['sheet']\n",
    "\n",
    "    questions = [q.strip() for q in question.split('\\n') if len(q.strip())]\n",
    "    cate_name = questions[0][:20]\n",
    "    records = [{'category': cate, 'cate': f'{cate}-{cate_name}', 'question': q, 'answer': answer, 'sheet': sheet} for q in questions]\n",
    "    return records"
   ]
  },
  {
   "cell_type": "code",
   "execution_count": 12,
   "id": "62e06d87-555d-47ba-83b2-f5daa89dcacc",
   "metadata": {},
   "outputs": [],
   "source": [
    "# out = parse_single_row_to_records(df.iloc[1].to_dict())\n",
    "# print(len(out))\n",
    "# pd.DataFrame(out).tail()"
   ]
  },
  {
   "cell_type": "code",
   "execution_count": 37,
   "id": "4e4bab33-6184-4015-aa42-bb55de46d906",
   "metadata": {},
   "outputs": [
    {
     "data": {
      "text/plain": [
       "(466, 5)"
      ]
     },
     "execution_count": 37,
     "metadata": {},
     "output_type": "execute_result"
    }
   ],
   "source": [
    "records = []\n",
    "for idx, row in ori_df.iterrows():\n",
    "    _rec = parse_single_row_to_records(row)\n",
    "    records += _rec\n",
    "\n",
    "df = pd.DataFrame(records)\n",
    "df.shape"
   ]
  },
  {
   "cell_type": "code",
   "execution_count": 38,
   "id": "702be297-4d0b-4173-9e10-7dd744f06bc2",
   "metadata": {},
   "outputs": [
    {
     "data": {
      "text/html": [
       "<div>\n",
       "<style scoped>\n",
       "    .dataframe tbody tr th:only-of-type {\n",
       "        vertical-align: middle;\n",
       "    }\n",
       "\n",
       "    .dataframe tbody tr th {\n",
       "        vertical-align: top;\n",
       "    }\n",
       "\n",
       "    .dataframe thead th {\n",
       "        text-align: right;\n",
       "    }\n",
       "</style>\n",
       "<table border=\"1\" class=\"dataframe\">\n",
       "  <thead>\n",
       "    <tr style=\"text-align: right;\">\n",
       "      <th></th>\n",
       "      <th>category</th>\n",
       "      <th>cate</th>\n",
       "      <th>question</th>\n",
       "      <th>answer</th>\n",
       "      <th>sheet</th>\n",
       "    </tr>\n",
       "  </thead>\n",
       "  <tbody>\n",
       "    <tr>\n",
       "      <th>0</th>\n",
       "      <td>fallback</td>\n",
       "      <td>fallback-fallback</td>\n",
       "      <td>fallback</td>\n",
       "      <td>[[[Flexible2]]] $otext</td>\n",
       "      <td>flexible1</td>\n",
       "    </tr>\n",
       "    <tr>\n",
       "      <th>1</th>\n",
       "      <td>menudriven-01_checking</td>\n",
       "      <td>menudriven-01_checking-ตรวจสอบเครดิตบูโร</td>\n",
       "      <td>ตรวจสอบเครดิตบูโร</td>\n",
       "      <td>[[TEMPLATE]] {\\n  \"type\": \"carousel\",\\n  \"cont...</td>\n",
       "      <td>flexible1</td>\n",
       "    </tr>\n",
       "    <tr>\n",
       "      <th>2</th>\n",
       "      <td>menudriven-01_checking</td>\n",
       "      <td>menudriven-01_checking-ตรวจสอบเครดิตบูโร</td>\n",
       "      <td>ตรวจเครดิตบูโร</td>\n",
       "      <td>[[TEMPLATE]] {\\n  \"type\": \"carousel\",\\n  \"cont...</td>\n",
       "      <td>flexible1</td>\n",
       "    </tr>\n",
       "    <tr>\n",
       "      <th>3</th>\n",
       "      <td>menudriven-01_checking</td>\n",
       "      <td>menudriven-01_checking-ตรวจสอบเครดิตบูโร</td>\n",
       "      <td>ตรวจสอบ</td>\n",
       "      <td>[[TEMPLATE]] {\\n  \"type\": \"carousel\",\\n  \"cont...</td>\n",
       "      <td>flexible1</td>\n",
       "    </tr>\n",
       "    <tr>\n",
       "      <th>4</th>\n",
       "      <td>menudriven-01_checking</td>\n",
       "      <td>menudriven-01_checking-ตรวจสอบเครดิตบูโร</td>\n",
       "      <td>เครดิตบูโรอย่างไร</td>\n",
       "      <td>[[TEMPLATE]] {\\n  \"type\": \"carousel\",\\n  \"cont...</td>\n",
       "      <td>flexible1</td>\n",
       "    </tr>\n",
       "  </tbody>\n",
       "</table>\n",
       "</div>"
      ],
      "text/plain": [
       "                 category                                      cate  \\\n",
       "0                fallback                         fallback-fallback   \n",
       "1  menudriven-01_checking  menudriven-01_checking-ตรวจสอบเครดิตบูโร   \n",
       "2  menudriven-01_checking  menudriven-01_checking-ตรวจสอบเครดิตบูโร   \n",
       "3  menudriven-01_checking  menudriven-01_checking-ตรวจสอบเครดิตบูโร   \n",
       "4  menudriven-01_checking  menudriven-01_checking-ตรวจสอบเครดิตบูโร   \n",
       "\n",
       "            question                                             answer  \\\n",
       "0           fallback                             [[[Flexible2]]] $otext   \n",
       "1  ตรวจสอบเครดิตบูโร  [[TEMPLATE]] {\\n  \"type\": \"carousel\",\\n  \"cont...   \n",
       "2     ตรวจเครดิตบูโร  [[TEMPLATE]] {\\n  \"type\": \"carousel\",\\n  \"cont...   \n",
       "3            ตรวจสอบ  [[TEMPLATE]] {\\n  \"type\": \"carousel\",\\n  \"cont...   \n",
       "4  เครดิตบูโรอย่างไร  [[TEMPLATE]] {\\n  \"type\": \"carousel\",\\n  \"cont...   \n",
       "\n",
       "       sheet  \n",
       "0  flexible1  \n",
       "1  flexible1  \n",
       "2  flexible1  \n",
       "3  flexible1  \n",
       "4  flexible1  "
      ]
     },
     "execution_count": 38,
     "metadata": {},
     "output_type": "execute_result"
    }
   ],
   "source": [
    "df[:5]"
   ]
  },
  {
   "cell_type": "code",
   "execution_count": 39,
   "id": "0607a6af-8776-4987-9051-8017bf9e6634",
   "metadata": {},
   "outputs": [
    {
     "data": {
      "text/plain": [
       "cate\n",
       "faq_055-ตรวจเครดิตบูโรได้ที่                      22\n",
       "menudriven-01_checking-ตรวจสอบเครดิตบูโร          18\n",
       "faq_021-สิทธิตรวจสอบสถานะ แก                      16\n",
       "faq_019-ตววจแล้วไม่ได้                            15\n",
       "menudriven-02_invalid_credit-มีประวัติค้างชำระ    13\n",
       "                                                  ..\n",
       "faq_115-เมื่อไหร่จะมีแอป                           1\n",
       "faq_072-แบบฟอร์มคำขอตรวจสอบค                       1\n",
       "faq_117-แอปทางรัฐ คือ                              1\n",
       "faq_095-ทำไมไม่ไปงาน Money E                       1\n",
       "faq_082-ขอรายละเอียดเอกสารใน                       1\n",
       "Name: count, Length: 126, dtype: int64"
      ]
     },
     "execution_count": 39,
     "metadata": {},
     "output_type": "execute_result"
    }
   ],
   "source": [
    "df.cate.value_counts()"
   ]
  },
  {
   "cell_type": "markdown",
   "id": "abfbb954-4ddc-45a6-b9b9-fb9231d3f7f3",
   "metadata": {},
   "source": [
    "# 01 LOAD DATA"
   ]
  },
  {
   "cell_type": "code",
   "execution_count": 54,
   "id": "0abe1ad4-3db6-457d-8723-b530e5b793ad",
   "metadata": {},
   "outputs": [],
   "source": [
    "from llama_index.core import SimpleDirectoryReader"
   ]
  },
  {
   "cell_type": "code",
   "execution_count": 55,
   "id": "0de4c6a7-c306-4038-bc51-03197bfae37d",
   "metadata": {},
   "outputs": [],
   "source": [
    "reader = SimpleDirectoryReader(input_dir=\"./data\")\n",
    "documents = reader.load_data()"
   ]
  },
  {
   "cell_type": "code",
   "execution_count": 56,
   "id": "ad7f6d92-aefa-451d-a047-4c84d6fc8ed2",
   "metadata": {},
   "outputs": [
    {
     "data": {
      "text/plain": [
       "Document(id_='9611675c-6572-4d2f-b858-c69ce0b0a9e1', embedding=None, metadata={'file_path': '/home/prejudice/workspace/PROJECT/stand_alone/workshop/rag-chatbot/data/01-snake-different.txt', 'file_name': '01-snake-different.txt', 'file_type': 'text/plain', 'file_size': 4638, 'creation_date': '2025-01-30', 'last_modified_date': '2025-01-30'}, excluded_embed_metadata_keys=['file_name', 'file_type', 'file_size', 'creation_date', 'last_modified_date', 'last_accessed_date'], excluded_llm_metadata_keys=['file_name', 'file_type', 'file_size', 'creation_date', 'last_modified_date', 'last_accessed_date'], relationships={}, text='งูเหลือม กับ งูหลาม ต่างกันยังไง? เพิ่งรู้มีวิธีสังเกตง่ายมาก ดูแค่ส่วนหัวก็รู้เลย\\n10 ส.ค. 67 (18:01 น.) พิมพ์\\nงูเหลือม กับ งูหลาม ต่างกันยังไง? เพิ่งรู้มีวิธีสังเกตง่ายมาก ดูแค่ส่วนหัวก็รู้เลย\\nแชร์เรื่องนี้\\nคัดลอกลิงก์\\nกดฟัง\\n-ก\\nก+\\nงูเหลือม กับ งูหลาม ต่างกันยังไง? เพิ่งรู้มีวิธีสังเกตง่ายมาก 3 ข้อ ซึ่งจริงๆ ดูแค่ส่วนหัวก็เห็นความแตกต่างแล้ว\\n\\nงูเหลือม และ งูหลาม เป็นงูไม่มีพิษขนาดใหญ่ที่พบได้บ่อยในประเทศไทย โดยทั้ง 2 ชนิด ปัจจุบันเป็นสัตว์ป่าคุ้มครอง ตามพระราชบัญญัติสงวนและคุ้มครองสัตว์ป่า พุทธศักราช 2535\\n\\nความแตกต่างของงูเหลือมและงูหลาม คือ งูหลามมีลำตัวที่ใหญ่อ้วนป้อมกว่างูเหลือม แต่มีความยาวน้อยกว่างูเหลือม ความยาวของงูหลามอยู่ที่ประมาณ 1-3 เมตร ส่วนงูเหลือมยาวได้ถึง 5 เมตร\\n\\nถ้าเรื่องความดุร้าย งูหลามไม่ดุร้ายเท่างูเหลือมและมักจะออกล่าเหยื่อบนบก หากพบเห็นงูแบบนี้หากินในน้ำ สันนิษฐานได้เลยว่าเป็นงูเหลือม แต่ถ้าพบบริเวณภาคใต้สันนิษฐานได้เลยว่าเป็นงูเหลือม เพราะถิ่นกำเนิดของงูหลามไม่ได้อยู่ในบริเวณภาคใต้ แต่จะพบได้ในภาคอื่น ๆ ของประเทศไทย ส่วนงูเหลือมนั้นพบได้ทั่วไป\\n\\nสำหรับระยะเวลาการฟักไข่ที่ต่างกัน โดยงูหลามนั้นจะใช้เวลาฟักไข่ 2 เดือน แต่งูเหลือมจะใช้เวลาฟักไข่ 3 เดือน แต่หากพบเห็นงูประเภทนี้บนต้นไม้ ให้สันนิษฐานไว้ก่อนว่าเป็นงูเหลือม เพราะนิสัยของงูหลามไม่ชอบหากินบนต้นไม้\\n\\n4+\\nจุดที่ดูได้ง่ายที่สุดมี 3 อย่างด้วยกัน อันดับแรกลายที่บนหัวของงูทั้ง 2 ชนิดมีลวดลายที่ต่างกัน คือ\\n\\nลายบนหัว งูหลาม จะมีลายสีน้ำตาลเข้มเป็นรูปสามเหลี่ยมอยู่บนหัว ส่วนงูเหลือมเป็นเส้นสีดำเริ่มจากปลายจมูกผ่านกลางหัวมาถึงที่บริเวณคอ\\nสีของตา งูหลาม ตาของงูหลามจะมีสีน้ำตาลหรือสีดำ งูเหลือมตาจะมีสีเหลืองหรือสีส้ม\\nลายบนลำตัว งูหลาม พื้นตัวสีน้ำตาลมีเส้นตัดลายเป็นสีอ่อน งูเหลือมมีพื้นตัวเป็นสีน้ำตาลอ่อน มีเส้นตัดลายสีดำและมีลายสีขาวแทรกตามตัว\\n', mimetype='text/plain', start_char_idx=None, end_char_idx=None, text_template='{metadata_str}\\n\\n{content}', metadata_template='{key}: {value}', metadata_seperator='\\n')"
      ]
     },
     "execution_count": 56,
     "metadata": {},
     "output_type": "execute_result"
    }
   ],
   "source": [
    "documents[0]"
   ]
  },
  {
   "cell_type": "code",
   "execution_count": null,
   "id": "0625b48a-1a91-4cc6-a86f-a4bfab73b7a3",
   "metadata": {},
   "outputs": [],
   "source": []
  },
  {
   "cell_type": "markdown",
   "id": "ba901211-2635-4af2-a39d-45acf4fe2f55",
   "metadata": {},
   "source": [
    "# 02 INDEXING"
   ]
  },
  {
   "cell_type": "markdown",
   "id": "4dd0d660-e179-498f-9935-d1d56fcd303c",
   "metadata": {},
   "source": [
    "#### CONVERT DOCS TO NODES"
   ]
  },
  {
   "cell_type": "code",
   "execution_count": 6,
   "id": "dd686260-4574-41b0-b42f-bb9713369dca",
   "metadata": {},
   "outputs": [],
   "source": [
    "from llama_index.core.node_parser import TokenTextSplitter"
   ]
  },
  {
   "cell_type": "code",
   "execution_count": 65,
   "id": "fd1a3eeb-12b0-413d-9372-7231c084ccc5",
   "metadata": {},
   "outputs": [],
   "source": [
    "splitter = TokenTextSplitter(\n",
    "    chunk_size=512,\n",
    "    chunk_overlap=128,\n",
    "    separator=\" \",\n",
    ")"
   ]
  },
  {
   "cell_type": "code",
   "execution_count": 66,
   "id": "8cc56463-44c3-4d8f-8e77-5aac8393b925",
   "metadata": {},
   "outputs": [
    {
     "data": {
      "application/vnd.jupyter.widget-view+json": {
       "model_id": "d0151359e50849caad660c827d31fd95",
       "version_major": 2,
       "version_minor": 0
      },
      "text/plain": [
       "Parsing nodes:   0%|          | 0/3 [00:00<?, ?it/s]"
      ]
     },
     "metadata": {},
     "output_type": "display_data"
    }
   ],
   "source": [
    "nodes = splitter.get_nodes_from_documents(\n",
    "    documents, show_progress=True\n",
    ")"
   ]
  },
  {
   "cell_type": "code",
   "execution_count": 67,
   "id": "8e29e998-5704-4528-bf53-1c3fa3cffa70",
   "metadata": {},
   "outputs": [
    {
     "data": {
      "text/plain": [
       "(3, 30)"
      ]
     },
     "execution_count": 67,
     "metadata": {},
     "output_type": "execute_result"
    }
   ],
   "source": [
    "len(documents), len(nodes)"
   ]
  },
  {
   "cell_type": "markdown",
   "id": "f2557392-c8a3-4fe7-867d-b8e67f68616e",
   "metadata": {},
   "source": [
    "#### SET LLM ENV"
   ]
  },
  {
   "cell_type": "code",
   "execution_count": 68,
   "id": "f7179d88-6c46-4c06-997a-7cdda88b2fdd",
   "metadata": {},
   "outputs": [],
   "source": [
    "from llama_index.embeddings.huggingface import HuggingFaceEmbedding"
   ]
  },
  {
   "cell_type": "code",
   "execution_count": 69,
   "id": "9721499d-e888-4cd1-b87c-9c5783b2366f",
   "metadata": {},
   "outputs": [],
   "source": [
    "embedding_model_name = 'BAAI/bge-m3'\n",
    "embed_model = HuggingFaceEmbedding(model_name=embedding_model_name,max_length=1024)"
   ]
  },
  {
   "cell_type": "code",
   "execution_count": 70,
   "id": "c03b3c2d-035a-4cdd-ba1b-3ad5e4ab8e5e",
   "metadata": {},
   "outputs": [
    {
     "name": "stdout",
     "output_type": "stream",
     "text": [
      "LLM is explicitly disabled. Using MockLLM.\n"
     ]
    }
   ],
   "source": [
    "from llama_index.core import Settings\n",
    "\n",
    "Settings.llm = None\n",
    "Settings.embed_model = embed_model"
   ]
  },
  {
   "cell_type": "code",
   "execution_count": null,
   "id": "08c5b00a-1bc9-44b9-acda-37d8ab7a28dd",
   "metadata": {},
   "outputs": [],
   "source": []
  },
  {
   "cell_type": "markdown",
   "id": "76dc72e3-a37a-4e4c-acd5-3de4d3617939",
   "metadata": {},
   "source": [
    "#### INDEXING"
   ]
  },
  {
   "cell_type": "code",
   "execution_count": 71,
   "id": "4e6dba36-4e99-479b-bf4d-19c95bb65a5f",
   "metadata": {},
   "outputs": [],
   "source": [
    "import faiss\n",
    "from llama_index.core import (\n",
    "    VectorStoreIndex,\n",
    "    StorageContext,\n",
    "    Document,\n",
    ")        \n",
    "from llama_index.vector_stores.faiss import FaissVectorStore"
   ]
  },
  {
   "cell_type": "code",
   "execution_count": 72,
   "id": "3ebf0efc-27bd-4b85-af9e-2b6a9a2a84ea",
   "metadata": {},
   "outputs": [],
   "source": [
    "dim = 1024\n",
    "faiss_index = faiss.IndexFlatIP(dim)"
   ]
  },
  {
   "cell_type": "code",
   "execution_count": 73,
   "id": "ca3d62e6-e570-4a44-9db6-cbcd274e6543",
   "metadata": {},
   "outputs": [
    {
     "name": "stdout",
     "output_type": "stream",
     "text": [
      "CPU times: user 2min 7s, sys: 1.62 s, total: 2min 8s\n",
      "Wall time: 22.6 s\n"
     ]
    }
   ],
   "source": [
    "%%time\n",
    "vector_store = FaissVectorStore(faiss_index=faiss_index)\n",
    "storage_context = StorageContext.from_defaults(vector_store=vector_store)\n",
    "index = VectorStoreIndex(nodes=nodes,storage_context=storage_context)"
   ]
  },
  {
   "cell_type": "markdown",
   "id": "0fe00fed-187a-4b8b-8750-79326ad40ca5",
   "metadata": {},
   "source": [
    "##### SAVE INDEX"
   ]
  },
  {
   "cell_type": "code",
   "execution_count": 74,
   "id": "0a546eb3-815f-4115-b785-9c80739dfbcd",
   "metadata": {},
   "outputs": [],
   "source": [
    "persist_dir = 'index'\n",
    "# persist_dir = 'index/nstda-faq'\n",
    "\n",
    "index.storage_context.persist(persist_dir=persist_dir)"
   ]
  },
  {
   "cell_type": "code",
   "execution_count": 75,
   "id": "ba7d80de-5eb0-4426-8dd3-138b2f6cfcec",
   "metadata": {},
   "outputs": [
    {
     "name": "stdout",
     "output_type": "stream",
     "text": [
      "\u001b[1;34mindex/\u001b[00m\n",
      "├── default__vector_store.json\n",
      "├── docstore.json\n",
      "├── graph_store.json\n",
      "├── image__vector_store.json\n",
      "└── index_store.json\n",
      "\n",
      "0 directories, 5 files\n"
     ]
    },
    {
     "name": "stderr",
     "output_type": "stream",
     "text": [
      "huggingface/tokenizers: The current process just got forked, after parallelism has already been used. Disabling parallelism to avoid deadlocks...\n",
      "To disable this warning, you can either:\n",
      "\t- Avoid using `tokenizers` before the fork if possible\n",
      "\t- Explicitly set the environment variable TOKENIZERS_PARALLELISM=(true | false)\n"
     ]
    }
   ],
   "source": [
    "!tree index/"
   ]
  },
  {
   "cell_type": "code",
   "execution_count": null,
   "id": "49236505-2acf-414b-9792-87bef0c25d20",
   "metadata": {},
   "outputs": [],
   "source": []
  },
  {
   "cell_type": "markdown",
   "id": "80220172-2517-48d1-8bbc-2c5e9972edab",
   "metadata": {},
   "source": [
    "# 03 SEARCH"
   ]
  },
  {
   "cell_type": "code",
   "execution_count": 76,
   "id": "377e839d-345e-4219-be64-bdfe83273ec6",
   "metadata": {},
   "outputs": [],
   "source": [
    "from llama_index.core import (\n",
    "\n",
    "    load_index_from_storage,\n",
    "    StorageContext,\n",
    ")"
   ]
  },
  {
   "cell_type": "code",
   "execution_count": 77,
   "id": "cd7f434a-5e09-4611-9f7b-b89bf04ac6bf",
   "metadata": {},
   "outputs": [],
   "source": [
    "persist_dir=\"index\"\n",
    "\n",
    "vector_store = FaissVectorStore.from_persist_dir(persist_dir)\n",
    "storage_context = StorageContext.from_defaults(vector_store=vector_store, persist_dir=persist_dir)\n",
    "index = load_index_from_storage(storage_context=storage_context)"
   ]
  },
  {
   "cell_type": "code",
   "execution_count": 78,
   "id": "409fecee-6d39-4817-b9fa-be2547d1bc99",
   "metadata": {},
   "outputs": [],
   "source": [
    "retriever = index.as_retriever(similarity_top_k=5)"
   ]
  },
  {
   "cell_type": "code",
   "execution_count": 83,
   "id": "eab35f72-0aca-405d-8f67-b95402277b4a",
   "metadata": {},
   "outputs": [
    {
     "name": "stdout",
     "output_type": "stream",
     "text": [
      "Query: เราสามารถแยกงูเหลือมกับงูหลามออกจากกันได้ไง \n",
      "\n",
      "Docid: \n",
      "Response: งูเหลือม กับ งูหลาม ต่างกันยังไง? เพิ่งรู้มีวิธีสังเกตง่ายมาก ดูแค่ส่วนหัวก็รู้เลย\n",
      "10 ส.ค. 67 (18:01 น.) พิมพ์\n",
      "งูเหลือม กับ งูหลาม ต่างกันยังไง? เพิ่งรู้มีวิธีสังเกตง่ายมาก ดูแค่ส่วนหัวก็รู้เลย\n",
      "แชร์เรื่องนี้\n",
      "คัดลอกลิงก์\n",
      "กดฟัง\n",
      "-ก\n",
      "ก+\n",
      "งูเหลือม กับ งูหลาม ต่างกันยังไง? เพิ่งรู้มีวิธีสังเกตง่ายมาก 3 ข้อ ซึ่งจริงๆ ดูแค่ส่วนหัวก็เห็นความแตกต่างแล้ว\n",
      "\n",
      "งูเหลือม และ งูหลาม เป็นงูไม่มีพิษขนาดใหญ่ที่พบได้บ่อยในประเทศไทย โดยทั้ง 2 ชนิด ปัจจุบันเป็นสัตว์ป่าคุ้มครอง ตามพระราชบัญญัติสงวนและคุ้มครองสัตว์ป่า\n",
      "Score: 0.7475630640983582\n",
      "Metadata {'file_path': '/home/prejudice/workspace/PROJECT/stand_alone/workshop/rag-chatbot/data/01-snake-different.txt', 'file_name': '01-snake-different.txt', 'file_type': 'text/plain', 'file_size': 4638, 'creation_date': '2025-01-30', 'last_modified_date': '2025-01-30'}\n",
      "-------------------------------------------------- \n",
      "\n",
      "Docid: \n",
      "Response: โดยทั้ง 2 ชนิด ปัจจุบันเป็นสัตว์ป่าคุ้มครอง ตามพระราชบัญญัติสงวนและคุ้มครองสัตว์ป่า พุทธศักราช 2535\n",
      "\n",
      "ความแตกต่างของงูเหลือมและงูหลาม คือ งูหลามมีลำตัวที่ใหญ่อ้วนป้อมกว่างูเหลือม แต่มีความยาวน้อยกว่างูเหลือม ความยาวของงูหลามอยู่ที่ประมาณ 1-3 เมตร ส่วนงูเหลือมยาวได้ถึง 5 เมตร\n",
      "\n",
      "ถ้าเรื่องความดุร้าย งูหลามไม่ดุร้ายเท่างูเหลือมและมักจะออกล่าเหยื่อบนบก หากพบเห็นงูแบบนี้หากินในน้ำ สันนิษฐานได้เลยว่าเป็นงูเหลือม แต่ถ้าพบบริเวณภาคใต้สันนิษฐานได้เลยว่าเป็นงูเหลือม เพราะถิ่นกำเนิดของงูหลามไม่ได้อยู่ในบริเวณภาคใต้\n",
      "Score: 0.708260715007782\n",
      "Metadata {'file_path': '/home/prejudice/workspace/PROJECT/stand_alone/workshop/rag-chatbot/data/01-snake-different.txt', 'file_name': '01-snake-different.txt', 'file_type': 'text/plain', 'file_size': 4638, 'creation_date': '2025-01-30', 'last_modified_date': '2025-01-30'}\n",
      "-------------------------------------------------- \n",
      "\n",
      "Docid: \n",
      "Response: เพราะนิสัยของงูหลามไม่ชอบหากินบนต้นไม้\n",
      "\n",
      "4+\n",
      "จุดที่ดูได้ง่ายที่สุดมี 3 อย่างด้วยกัน อันดับแรกลายที่บนหัวของงูทั้ง 2 ชนิดมีลวดลายที่ต่างกัน คือ\n",
      "\n",
      "ลายบนหัว งูหลาม จะมีลายสีน้ำตาลเข้มเป็นรูปสามเหลี่ยมอยู่บนหัว ส่วนงูเหลือมเป็นเส้นสีดำเริ่มจากปลายจมูกผ่านกลางหัวมาถึงที่บริเวณคอ\n",
      "สีของตา งูหลาม ตาของงูหลามจะมีสีน้ำตาลหรือสีดำ งูเหลือมตาจะมีสีเหลืองหรือสีส้ม\n",
      "ลายบนลำตัว งูหลาม พื้นตัวสีน้ำตาลมีเส้นตัดลายเป็นสีอ่อน งูเหลือมมีพื้นตัวเป็นสีน้ำตาลอ่อน มีเส้นตัดลายสีดำและมีลายสีขาวแทรกตามตัว\n",
      "Score: 0.677413821220398\n",
      "Metadata {'file_path': '/home/prejudice/workspace/PROJECT/stand_alone/workshop/rag-chatbot/data/01-snake-different.txt', 'file_name': '01-snake-different.txt', 'file_type': 'text/plain', 'file_size': 4638, 'creation_date': '2025-01-30', 'last_modified_date': '2025-01-30'}\n",
      "-------------------------------------------------- \n",
      "\n"
     ]
    }
   ],
   "source": [
    "text = 'เราสามารถแยกงูเหลือมกับงูหลามออกจากกันได้ไง'\n",
    "\n",
    "response = retriever.retrieve(text)\n",
    "print(f'Query: {text}', '\\n')\n",
    "for i in range(3):\n",
    "    print('Docid:', response[i].metadata.get('docid', ''))\n",
    "    print('Response:', response[i].text)\n",
    "    print('Score:', response[i].score)\n",
    "    print('Metadata', response[i].metadata)\n",
    "    print('-'*50,'\\n')"
   ]
  },
  {
   "cell_type": "code",
   "execution_count": 80,
   "id": "bd1af826-d1b1-47f9-9651-babfa11f8f62",
   "metadata": {},
   "outputs": [],
   "source": [
    "query_engine = index.as_query_engine(similarity_top_k=3)"
   ]
  },
  {
   "cell_type": "code",
   "execution_count": 81,
   "id": "9eea7403-e388-4237-a644-37d86cb7e50b",
   "metadata": {},
   "outputs": [],
   "source": [
    "res = query_engine.query(text)"
   ]
  },
  {
   "cell_type": "code",
   "execution_count": 82,
   "id": "581b3295-e838-4f16-bbed-0aab92d50201",
   "metadata": {},
   "outputs": [
    {
     "name": "stdout",
     "output_type": "stream",
     "text": [
      "Context information is below.\n",
      "---------------------\n",
      "file_path: /home/prejudice/workspace/PROJECT/stand_alone/workshop/rag-chatbot/data/01-snake-different.txt\n",
      "\n",
      "งูเหลือม กับ งูหลาม ต่างกันยังไง? เพิ่งรู้มีวิธีสังเกตง่ายมาก ดูแค่ส่วนหัวก็รู้เลย\n",
      "10 ส.ค. 67 (18:01 น.) พิมพ์\n",
      "งูเหลือม กับ งูหลาม ต่างกันยังไง? เพิ่งรู้มีวิธีสังเกตง่ายมาก ดูแค่ส่วนหัวก็รู้เลย\n",
      "แชร์เรื่องนี้\n",
      "คัดลอกลิงก์\n",
      "กดฟัง\n",
      "-ก\n",
      "ก+\n",
      "งูเหลือม กับ งูหลาม ต่างกันยังไง? เพิ่งรู้มีวิธีสังเกตง่ายมาก 3 ข้อ ซึ่งจริงๆ ดูแค่ส่วนหัวก็เห็นความแตกต่างแล้ว\n",
      "\n",
      "งูเหลือม และ งูหลาม เป็นงูไม่มีพิษขนาดใหญ่ที่พบได้บ่อยในประเทศไทย โดยทั้ง 2 ชนิด ปัจจุบันเป็นสัตว์ป่าคุ้มครอง ตามพระราชบัญญัติสงวนและคุ้มครองสัตว์ป่า\n",
      "\n",
      "file_path: /home/prejudice/workspace/PROJECT/stand_alone/workshop/rag-chatbot/data/01-snake-different.txt\n",
      "\n",
      "โดยทั้ง 2 ชนิด ปัจจุบันเป็นสัตว์ป่าคุ้มครอง ตามพระราชบัญญัติสงวนและคุ้มครองสัตว์ป่า พุทธศักราช 2535\n",
      "\n",
      "ความแตกต่างของงูเหลือมและงูหลาม คือ งูหลามมีลำตัวที่ใหญ่อ้วนป้อมกว่างูเหลือม แต่มีความยาวน้อยกว่างูเหลือม ความยาวของงูหลามอยู่ที่ประมาณ 1-3 เมตร ส่วนงูเหลือมยาวได้ถึง 5 เมตร\n",
      "\n",
      "ถ้าเรื่องความดุร้าย งูหลามไม่ดุร้ายเท่างูเหลือมและมักจะออกล่าเหยื่อบนบก หากพบเห็นงูแบบนี้หากินในน้ำ สันนิษฐานได้เลยว่าเป็นงูเหลือม แต่ถ้าพบบริเวณภาคใต้สันนิษฐานได้เลยว่าเป็นงูเหลือม เพราะถิ่นกำเนิดของงูหลามไม่ได้อยู่ในบริเวณภาคใต้\n",
      "\n",
      "file_path: /home/prejudice/workspace/PROJECT/stand_alone/workshop/rag-chatbot/data/01-snake-different.txt\n",
      "\n",
      "เพราะนิสัยของงูหลามไม่ชอบหากินบนต้นไม้\n",
      "\n",
      "4+\n",
      "จุดที่ดูได้ง่ายที่สุดมี 3 อย่างด้วยกัน อันดับแรกลายที่บนหัวของงูทั้ง 2 ชนิดมีลวดลายที่ต่างกัน คือ\n",
      "\n",
      "ลายบนหัว งูหลาม จะมีลายสีน้ำตาลเข้มเป็นรูปสามเหลี่ยมอยู่บนหัว ส่วนงูเหลือมเป็นเส้นสีดำเริ่มจากปลายจมูกผ่านกลางหัวมาถึงที่บริเวณคอ\n",
      "สีของตา งูหลาม ตาของงูหลามจะมีสีน้ำตาลหรือสีดำ งูเหลือมตาจะมีสีเหลืองหรือสีส้ม\n",
      "ลายบนลำตัว งูหลาม พื้นตัวสีน้ำตาลมีเส้นตัดลายเป็นสีอ่อน งูเหลือมมีพื้นตัวเป็นสีน้ำตาลอ่อน มีเส้นตัดลายสีดำและมีลายสีขาวแทรกตามตัว\n",
      "---------------------\n",
      "Given the context information and not prior knowledge, answer the query.\n",
      "Query: เราสามารถแยกงูเหลือมกับงูหลามออกจากกันได้ไง\n",
      "Answer: \n"
     ]
    }
   ],
   "source": [
    "print(res.response)"
   ]
  },
  {
   "cell_type": "code",
   "execution_count": null,
   "id": "d05376af-bd4f-47cd-9639-377e7fa2d1ed",
   "metadata": {},
   "outputs": [],
   "source": []
  }
 ],
 "metadata": {
  "kernelspec": {
   "display_name": "Python 3 (ipykernel)",
   "language": "python",
   "name": "python3"
  },
  "language_info": {
   "codemirror_mode": {
    "name": "ipython",
    "version": 3
   },
   "file_extension": ".py",
   "mimetype": "text/x-python",
   "name": "python",
   "nbconvert_exporter": "python",
   "pygments_lexer": "ipython3",
   "version": "3.12.6"
  }
 },
 "nbformat": 4,
 "nbformat_minor": 5
}
